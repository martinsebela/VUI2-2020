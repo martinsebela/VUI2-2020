{
 "cells": [
  {
   "cell_type": "markdown",
   "metadata": {},
   "source": [
    "# Clusterizace\n",
    "\n",
    "Také se nazývá shluková analýza, v angličtině clustering. Slouží k roztřídění dat, o kterých nepotřebujeme znát jejich význam, vytváří skupiny (shluky objektů / clustery) na základě podobnosti - aby si prvky skupiny byli navzájem podobní, ale nebyli příliš podobní s prvky mimo tutu skupinu.\n",
    "\n",
    "## Použití\n",
    "\n",
    "Umožňuje řešit typ problému, který se vyskytuje v mnoha oblastech, například data mining, marketing, biologie, medicína, analýza obrazu, počítačová grafika, machine learning a další.\n",
    "\n",
    "### Kdy použít clusterizaci a kdy klasifikaci\n",
    "Obě metody se využívají pro rozdělení do skupin na základě vlastností prvků, takže jsou si celkem podobné, ale mají jisté rozdíly, které určují jejich využití.\n",
    "\n",
    "| Parametr | Klasifikace | Clusterizace |\n",
    "| --- | --- | --- |\n",
    "| učení | s učitelem (trénovací data) | bez učitele |\n",
    "| použití | rozdělení do předem definovaných tříd | rozdělení do clusterů na základě podobnosti, \"neznáme\" význam tříd |\n",
    "| komplexnost | složitější než clusterizace | méně složitá než klasifikace |\n",
    "\n",
    "Klasifikace vyžaduje učení s učitelem, takže je třeba mít nějaká data obsahující třídy, do kterých jsou roztříděny.\n",
    "\n",
    "Clusterizaci použijeme v případě, že hledáme nějakou novou, dosud neznámou informaci, předem neznáme výstup. Například rozdělení diváků seriálů do clusterů podle toho, na co se dívali, pro doporučení dalších pořadů (Netflix).\n",
    "\n",
    "### Použité knihovny\n",
    "##### NumPy\n",
    "- Práce s maticemi\n",
    "- https://numpy.org/doc/stable/index.html\n",
    "\n",
    "##### matplotlib\n",
    "- Práce s grafy\n",
    "- https://matplotlib.org/\n",
    "\n",
    "##### skicit-learn \n",
    "- Nástroje pro machine learning\n",
    "- https://scikit-learn.org/stable/index.html\n",
    "\n",
    "##### SciPy\n",
    "- Nástroje pro různé matematické a vědecké operace\n",
    "- https://www.scipy.org/scipylib/index.html\n",
    "\n",
    "## Algoritmy\n",
    "\n",
    "\n",
    "\n",
    "### Hierarchické\n",
    "Rozdělení do hierarchické struktury clusterů. Může být přístup **bottom-up**, kde se jednotlivé datové prvky spojují do clusterů, nebo **top-down**, kde na začátku máme velký cluster, který postupně rozdělujeme na menší clustery. \n",
    "\n",
    "...Mají problém s velkými datovými sadami, protože se ...\n",
    "\n",
    "Vyžaduje omezující podmínku - počet clusterů nebo maximální vzdálenost\n",
    "\n",
    "Jsou pro ně typické dendrogramy znázorňující jednotlivé kroky.\n",
    "\n",
    "#### Příklad\n",
    "(https://stackabuse.com/hierarchical-clustering-with-python-and-scikit-learn/)\n",
    "Importy"
   ]
  },
  {
   "cell_type": "code",
   "execution_count": 39,
   "metadata": {},
   "outputs": [],
   "source": [
    "import numpy as np\n",
    "\n",
    "from matplotlib import pyplot as plt\n",
    "from scipy.cluster.hierarchy import dendrogram, linkage\n",
    "from sklearn.cluster import AgglomerativeClustering"
   ]
  },
  {
   "cell_type": "markdown",
   "metadata": {},
   "source": [
    "- Vytvoření bodů a jejich vykreslení v grafu"
   ]
  },
  {
   "cell_type": "code",
   "execution_count": 41,
   "metadata": {},
   "outputs": [
    {
     "data": {
      "image/png": "[encoded data removed]",
      "text/plain": [
       "<Figure size 720x504 with 1 Axes>"
      ]
     },
     "metadata": {
      "needs_background": "light"
     },
     "output_type": "display_data"
    }
   ],
   "source": [
    "X = np.array([[5,3],\n",
    "    [10,15],\n",
    "    [15,12],\n",
    "    [24,10],\n",
    "    [30,30],\n",
    "    [85,70],\n",
    "    [71,80],\n",
    "    [60,78],\n",
    "    [70,55],\n",
    "    [80,91],])\n",
    "\n",
    "labels = range(1, 11)\n",
    "plt.figure(figsize=(10, 7))\n",
    "plt.subplots_adjust(bottom=0.1)\n",
    "plt.scatter(X[:,0],X[:,1], label='True Position')\n",
    "\n",
    "for label, x, y in zip(labels, X[:, 0], X[:, 1]):\n",
    "    plt.annotate(\n",
    "        label,\n",
    "        xy=(x, y), xytext=(-3, 3),\n",
    "        textcoords='offset points', ha='right', va='bottom')\n",
    "plt.show()"
   ]
  },
  {
   "cell_type": "markdown",
   "metadata": {},
   "source": [
    "- Hierarchické clusterování na základě **Euklidovké vzdálenosti**\n",
    "- Vykreslení dendrogramu, kde můžeme vidět pořadí vytváření clusterů. Hodnota na vertikální ose udává vzdálenost"
   ]
  },
  {
   "cell_type": "code",
   "execution_count": 43,
   "metadata": {},
   "outputs": [
    {
     "data": {
      "image/png": "[encoded data removed]",
      "text/plain": [
       "<Figure size 720x504 with 1 Axes>"
      ]
     },
     "metadata": {
      "needs_background": "light"
     },
     "output_type": "display_data"
    }
   ],
   "source": [
    "linked = linkage(X, 'single')\n",
    "\n",
    "labelList = range(1, 11)\n",
    "\n",
    "plt.figure(figsize=(10, 7))\n",
    "dendrogram(linked,\n",
    "            orientation='top',\n",
    "            labels=labelList,\n",
    "            distance_sort='descending',\n",
    "            show_leaf_counts=True)\n",
    "plt.show()"
   ]
  },
  {
   "cell_type": "code",
   "execution_count": 44,
   "metadata": {},
   "outputs": [
    {
     "data": {
      "text/plain": [
       "array([1, 1, 1, 1, 1, 0, 0, 0, 0, 0], dtype=int64)"
      ]
     },
     "execution_count": 44,
     "metadata": {},
     "output_type": "execute_result"
    }
   ],
   "source": [
    "from sklearn.cluster import AgglomerativeClustering\n",
    "\n",
    "cluster = AgglomerativeClustering(n_clusters=2, affinity='euclidean', linkage='ward')\n",
    "cluster.fit_predict(X)"
   ]
  },
  {
   "cell_type": "markdown",
   "metadata": {},
   "source": [
    "### Nehierarchické"
   ]
  },
  {
   "cell_type": "code",
   "execution_count": 1,
   "metadata": {},
   "outputs": [
    {
     "name": "stdout",
     "output_type": "stream",
     "text": [
      "ŽÁDNÉ středníky;\n",
      "ŽÁDNÉ { složené závorky }\n"
     ]
    }
   ],
   "source": [
    "# výpis na konzoli\n",
    "print(\"ŽÁDNÉ středníky;\")\n",
    "print(\"ŽÁDNÉ { složené závorky }\")"
   ]
  },
  {
   "cell_type": "markdown",
   "metadata": {},
   "source": [
    "Vypsání více hodnot na jeden řádek"
   ]
  },
  {
   "cell_type": "code",
   "execution_count": 2,
   "metadata": {},
   "outputs": [
    {
     "name": "stdout",
     "output_type": "stream",
     "text": [
      "1 2 3\n"
     ]
    }
   ],
   "source": [
    "print(1, 2, 3)"
   ]
  },
  {
   "cell_type": "markdown",
   "metadata": {},
   "source": [
    "### Příklady implicitního vypisování"
   ]
  },
  {
   "cell_type": "code",
   "execution_count": 3,
   "metadata": {},
   "outputs": [
    {
     "data": {
      "text/plain": [
       "30"
      ]
     },
     "execution_count": 3,
     "metadata": {},
     "output_type": "execute_result"
    }
   ],
   "source": [
    "10 + 20"
   ]
  },
  {
   "cell_type": "code",
   "execution_count": 4,
   "metadata": {},
   "outputs": [
    {
     "data": {
      "text/plain": [
       "'slon'"
      ]
     },
     "execution_count": 4,
     "metadata": {},
     "output_type": "execute_result"
    }
   ],
   "source": [
    "\"slon\""
   ]
  },
  {
   "cell_type": "markdown",
   "metadata": {},
   "source": [
    "## Proměnné\n",
    "Symbolické jméno uchovávající určitou informaci.\n",
    "- Stačí jen zadat jméno a přiřadit hodnotu\n",
    "- Není potřeba deklarovat předem ani určovat typ \n",
    "- Nelze deklarovat proměnou bez přiřazení hodnoty\n",
    "- Jednou definovaná proměnná v rámci skriptu stále uchovává stejnou hodnotu"
   ]
  },
  {
   "cell_type": "code",
   "execution_count": null,
   "metadata": {},
   "outputs": [],
   "source": [
    "moje_oblibene_cislo = 42"
   ]
  },
  {
   "cell_type": "markdown",
   "metadata": {},
   "source": [
    "#### Příklady:"
   ]
  },
  {
   "cell_type": "code",
   "execution_count": null,
   "metadata": {},
   "outputs": [],
   "source": [
    "a = 2\n",
    "print(a)"
   ]
  },
  {
   "cell_type": "code",
   "execution_count": null,
   "metadata": {},
   "outputs": [],
   "source": [
    "b = 3.14\n",
    "print(b)"
   ]
  },
  {
   "cell_type": "code",
   "execution_count": null,
   "metadata": {},
   "outputs": [],
   "source": [
    "c = 'A'\n",
    "print(c)"
   ]
  },
  {
   "cell_type": "code",
   "execution_count": null,
   "metadata": {},
   "outputs": [],
   "source": [
    "d = \"A\"\n",
    "print(d)"
   ]
  },
  {
   "cell_type": "code",
   "execution_count": null,
   "metadata": {},
   "outputs": [],
   "source": [
    "a"
   ]
  },
  {
   "cell_type": "code",
   "execution_count": null,
   "metadata": {},
   "outputs": [],
   "source": [
    "a = 10\n",
    "print(a)"
   ]
  },
  {
   "cell_type": "code",
   "execution_count": null,
   "metadata": {},
   "outputs": [],
   "source": [
    "a"
   ]
  },
  {
   "cell_type": "markdown",
   "metadata": {},
   "source": [
    "## Vstup z konsole (`input()`)\n",
    "Opakem příkazu `print()`, který zajišťuje výstup je `input()` pro vstup."
   ]
  },
  {
   "cell_type": "code",
   "execution_count": null,
   "metadata": {},
   "outputs": [],
   "source": [
    "a = input()\n",
    "print(a)\n"
   ]
  },
  {
   "cell_type": "markdown",
   "metadata": {},
   "source": [
    "Input se vstupní hláškou"
   ]
  },
  {
   "cell_type": "code",
   "execution_count": null,
   "metadata": {},
   "outputs": [],
   "source": [
    "a = input(\"Strana: \")\n",
    "print(a)"
   ]
  },
  {
   "cell_type": "markdown",
   "metadata": {},
   "source": [
    "## Pravidla pro pojmenování proměnných\n",
    "*[PEP8](https://www.python.org/dev/peps/pep-0008/) – Style Guide for Python Code*\n",
    "\n",
    "Proměnné musí začínat písmenem či podtržítkem\n",
    "\n",
    "Proměnné jsou *case sensitive*"
   ]
  },
  {
   "cell_type": "code",
   "execution_count": null,
   "metadata": {},
   "outputs": [],
   "source": [
    "cislo = 1\n",
    "Cislo = 2\n",
    "číslo = 3\n",
    "print(cislo, Cislo, číslo)"
   ]
  },
  {
   "cell_type": "markdown",
   "metadata": {},
   "source": [
    "Pro více-slovné proměnné používáme jako oddělovač podtržítko `_`"
   ]
  },
  {
   "cell_type": "code",
   "execution_count": null,
   "metadata": {},
   "outputs": [],
   "source": [
    "moje_oblibene_cislo = 42\n",
    "print(moje_oblibene_cislo)"
   ]
  },
  {
   "cell_type": "markdown",
   "metadata": {},
   "source": [
    "Další ukázky"
   ]
  },
  {
   "cell_type": "code",
   "execution_count": null,
   "metadata": {},
   "outputs": [],
   "source": [
    "x = 10\n",
    "print(x)"
   ]
  },
  {
   "cell_type": "code",
   "execution_count": null,
   "metadata": {},
   "outputs": [],
   "source": [
    "_y = 20\n",
    "$y = 50\n",
    "9x = 30\n",
    "print(_y)\n",
    "print($y)\n",
    "print(9x)\n"
   ]
  },
  {
   "cell_type": "markdown",
   "metadata": {},
   "source": [
    "## Operátory přiřazení\n",
    "\n",
    "Základní přiražení"
   ]
  },
  {
   "cell_type": "code",
   "execution_count": null,
   "metadata": {},
   "outputs": [],
   "source": [
    "a = 1\n",
    "b = a + 1\n",
    "print(b)"
   ]
  },
  {
   "cell_type": "markdown",
   "metadata": {},
   "source": [
    "Vícenásobné přiřazeni"
   ]
  },
  {
   "cell_type": "code",
   "execution_count": null,
   "metadata": {},
   "outputs": [],
   "source": [
    "a, b, c = 1, 2, 3\n",
    "print(a, b, c)"
   ]
  },
  {
   "cell_type": "markdown",
   "metadata": {},
   "source": [
    "Prohození dvou proměných díky přiřazeni"
   ]
  },
  {
   "cell_type": "code",
   "execution_count": null,
   "metadata": {},
   "outputs": [],
   "source": [
    "a = 1\n",
    "b = 2\n",
    "a, b = b, a\n",
    "print(a, b)"
   ]
  },
  {
   "cell_type": "markdown",
   "metadata": {},
   "source": [
    "> #### Příklad:\n",
    "> Do proměnných `a,b,c` přiřaďte hodnoty `ahoj, 10, 20.23` a následně je vypište."
   ]
  },
  {
   "cell_type": "code",
   "execution_count": null,
   "metadata": {},
   "outputs": [],
   "source": [
    "# Řešení"
   ]
  },
  {
   "cell_type": "markdown",
   "metadata": {},
   "source": [
    "### Operátor přiřazení kombinovavý s operací\n",
    "Operátory přiřazení lze zkombinovat s operací, tedy zápis:\n",
    "- `a = a + 1`\n",
    "Je stejný jako zápis:\n",
    "- `a += 1`"
   ]
  },
  {
   "cell_type": "code",
   "execution_count": null,
   "metadata": {},
   "outputs": [],
   "source": [
    "a = 1\n",
    "b = 1\n",
    "a = a + 1\n",
    "b += 1\n",
    "print(a, b)"
   ]
  },
  {
   "cell_type": "markdown",
   "metadata": {},
   "source": [
    "Takto se dají kombinovat i další binární operátory.\n",
    "\n",
    "## Rezervovaná slova\n",
    "Jedná se o slova, která nelze použít pro názvy proměnných.\n",
    "\n",
    "`and `\n",
    "`exec `\n",
    "`not`\n",
    "`assert`\n",
    "`finally`\n",
    "`or`\n",
    "`break`\n",
    "`for`\n",
    "`pass`\n",
    "`class`\n",
    "`from`\n",
    "`print`\n",
    "`continue`\n",
    "`lambda`\n",
    "`yield`\n",
    "`global`\n",
    "`raise`\n",
    "`def`\n",
    "`if`\n",
    "`return`\n",
    "`del`\n",
    "`import`\n",
    "`try`\n",
    "`elif`\n",
    "`in`\n",
    "`while`\n",
    "`else`\n",
    "`is`\n",
    "`with `\n",
    "`except`\n",
    "\n",
    "## Konce řádků a středníky\n",
    "Z mnoha programovacích jazyků jsme zvyklí ukončovat příkazy středníky.\n",
    "To má velkou výhodu v tom, že když chceme napsat příkaz na více řádků, ničemu to nevadí.\n",
    "\n",
    "V Pythonu platí co řádek to příkaz.\n",
    "Když chceme napsat příkaz na více řádků, použijeme znak `\\`."
   ]
  },
  {
   "cell_type": "code",
   "execution_count": null,
   "metadata": {},
   "outputs": [],
   "source": [
    "\"Ahoj\" +\\\n",
    "\" \" +\\\n",
    "\"svetě.\""
   ]
  },
  {
   "cell_type": "markdown",
   "metadata": {},
   "source": [
    "## Import funkci, objeku, modulu\n",
    "Pokud chceme použit něco, co není soušátí standatního balíčku, pak musíme provést import.\n",
    "\n",
    "Například python nezná konstantu `pi`, ta je v modulu `math`."
   ]
  },
  {
   "cell_type": "code",
   "execution_count": null,
   "metadata": {},
   "outputs": [],
   "source": [
    "import math\n",
    "math.pi"
   ]
  },
  {
   "cell_type": "markdown",
   "metadata": {},
   "source": [
    "pokud bychom chtěli pouze `pi`"
   ]
  },
  {
   "cell_type": "code",
   "execution_count": 1,
   "metadata": {},
   "outputs": [
    {
     "data": {
      "text/plain": [
       "3.141592653589793"
      ]
     },
     "execution_count": 1,
     "metadata": {},
     "output_type": "execute_result"
    }
   ],
   "source": [
    "from math import pi\n",
    "pi"
   ]
  },
  {
   "cell_type": "markdown",
   "metadata": {},
   "source": []
  },
  {
   "cell_type": "code",
   "execution_count": null,
   "metadata": {},
   "outputs": [],
   "source": []
  }
 ],
 "metadata": {
  "kernelspec": {
   "display_name": "Python 3",
   "language": "python",
   "name": "python3"
  },
  "language_info": {
   "codemirror_mode": {
    "name": "ipython",
    "version": 3
   },
   "file_extension": ".py",
   "mimetype": "text/x-python",
   "name": "python",
   "nbconvert_exporter": "python",
   "pygments_lexer": "ipython3",
   "version": "3.8.3"
  }
 },
 "nbformat": 4,
 "nbformat_minor": 4
}
