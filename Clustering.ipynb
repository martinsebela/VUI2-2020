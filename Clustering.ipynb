{
 "cells": [
  {
   "cell_type": "markdown",
   "metadata": {},
   "source": [
    "# Clusterizace\n",
    "\n",
    "Také se nazývá shluková analýza, v angličtině clustering. Slouží k roztřídění dat, o kterých nepotřebujeme znát jejich význam, vytváří skupiny (shluky objektů / clustery) na základě podobnosti - aby si prvky skupiny byli navzájem podobní, ale nebyli příliš podobní s prvky mimo tutu skupinu.\n",
    "\n",
    "## Použití\n",
    "\n",
    "Umožňuje řešit typ problému, který se vyskytuje v mnoha oblastech, například data mining, marketing, biologie, medicína, analýza obrazu, počítačová grafika, machine learning a další.\n",
    "\n",
    "### Kdy použít clusterizaci a kdy klasifikaci\n",
    "Obě metody se využívají pro rozdělení do skupin na základě vlastností prvků, takže jsou si celkem podobné, ale mají jisté rozdíly, které určují jejich využití.\n",
    "\n",
    "| Parametr | Klasifikace | Clusterizace |\n",
    "| --- | --- | --- |\n",
    "| učení | s učitelem (trénovací data) | bez učitele |\n",
    "| použití | rozdělení do předem definovaných tříd | rozdělení do clusterů na základě podobnosti, \"neznáme\" význam tříd |\n",
    "| komplexnost | složitější než clusterizace | méně složitá než klasifikace |\n",
    "\n",
    "Klasifikace vyžaduje učení s učitelem, takže je třeba mít nějaká data obsahující třídy, do kterých jsou roztříděny.\n",
    "\n",
    "Clusterizaci použijeme v případě, že hledáme nějakou novou, dosud neznámou informaci, předem neznáme výstup. Například rozdělení diváků seriálů do clusterů podle toho, na co se dívali, pro doporučení dalších pořadů (Netflix).\n",
    "\n",
    "### Použité knihovny\n",
    "##### NumPy\n",
    "- Práce s maticemi\n",
    "- https://numpy.org/doc/stable/index.html\n",
    "\n",
    "##### matplotlib\n",
    "- Práce s grafy\n",
    "- https://matplotlib.org/\n",
    "\n",
    "##### skicit-learn \n",
    "- Nástroje pro machine learning\n",
    "- https://scikit-learn.org/stable/index.html\n",
    "\n",
    "##### SciPy\n",
    "- Nástroje pro různé matematické a vědecké operace\n",
    "- Obsahuje i základní algoritmy pro clusterizaci\n",
    "- https://www.scipy.org/scipylib/index.html\n",
    "\n",
    "\n",
    "## Hierarchické algoritmy\n",
    "Rozdělení do hierarchické struktury clusterů. Může být přístup **bottom-up**, kde se jednotlivé datové prvky spojují do clusterů, nebo **top-down**, kde na začátku máme velký cluster, který postupně rozdělujeme na menší clustery. \n",
    "\n",
    "\n",
    "\n",
    "*postup:*\n",
    "    1. Každý prvek se přiřadí do samostatného clusteru. Tedy na začátku bude stejný počet clusterů jako je datových prvků.\n",
    "    2. Najde se nebližší (nejpodobnější) dvojice clusterů, které se spojí do společného clusteru. Tedy se sníží počet clusterů o jedna. Tento krok opakujeme, dokud není překročena omezující podmínka nebo dokud není pouze jeden cluster.\n",
    "\n",
    "Omezující podmínkou může být počet clusterů nebo maximální vzdálenost.\n",
    "\n",
    "Pro hierarchické algoritmy jsou typické dendrogramy znázorňující jednotlivé kroky.\n",
    "\n",
    "Základní algoritmy mají časovou složitost O(n^3), což není moc dobré, především pro velké datové sady.\n",
    "\n",
    "Vzdálenost clusterů je určena metrikou (linkage metrics), kde nejběžnější je **Single-linkage**, která určuje vzdálenost clusterů na základě 2 nejbližších prvků jednotlivých clusterů. Další metrikou je **Complete-linkage**, která určuje vzdálenost clusterů jako vzdálenost jejich nejvzdálenějších prvků. Třetí možností je **Average-linkage**, která rozhoduje na základě průměru clusterů. Používá se také **Ward-linkage**, která je složitější a snaží se minimalizovat varianci clusterů, které se slučují.\n",
    "<img src=\"resources/linkage.png\">\n",
    "(https://www.researchgate.net/figure/The-three-linkage-types-of-hierarchical-clustering-single-link-complete-link-and_fig57_281014334)\n",
    "\n",
    "#### Jednoduchý Příklad\n",
    "(https://stackabuse.com/hierarchical-clustering-with-python-and-scikit-learn/)\n",
    "\n",
    "Importy"
   ]
  },
  {
   "cell_type": "code",
   "execution_count": 4,
   "metadata": {},
   "outputs": [],
   "source": [
    "import numpy as np\n",
    "\n",
    "from matplotlib import pyplot as plt\n",
    "from scipy.cluster.hierarchy import dendrogram, linkage\n",
    "from sklearn.cluster import AgglomerativeClustering"
   ]
  },
  {
   "cell_type": "markdown",
   "metadata": {},
   "source": [
    "- Vytvoření bodů a jejich vykreslení v grafu"
   ]
  },
  {
   "cell_type": "code",
   "execution_count": 5,
   "metadata": {},
   "outputs": [
    {
     "data": {
      "image/png": "[encoded data removed]",
      "text/plain": [
       "<Figure size 720x504 with 1 Axes>"
      ]
     },
     "metadata": {
      "needs_background": "light"
     },
     "output_type": "display_data"
    }
   ],
   "source": [
    "X = np.array([[5,3],\n",
    "    [10,15],\n",
    "    [15,12],\n",
    "    [24,10],\n",
    "    [30,30],\n",
    "    [85,70],\n",
    "    [71,80],\n",
    "    [60,78],\n",
    "    [80,55],\n",
    "    [80,91],])\n",
    "\n",
    "labels = range(1, 11)\n",
    "plt.figure(figsize=(10, 7))\n",
    "plt.subplots_adjust(bottom=0.1)\n",
    "plt.scatter(X[:,0],X[:,1], label='True Position')\n",
    "\n",
    "for label, x, y in zip(labels, X[:, 0], X[:, 1]):\n",
    "    plt.annotate(\n",
    "        label,\n",
    "        xy=(x, y), xytext=(-3, 3),\n",
    "        textcoords='offset points', ha='right', va='bottom')\n",
    "plt.show()"
   ]
  },
  {
   "cell_type": "markdown",
   "metadata": {},
   "source": [
    "- Hierarchické clusterování bottom-up na základě **Euklidovké vzdálenosti**\n",
    "- Vykreslení dendrogramu, kde můžeme vidět pořadí vytváření clusterů. Hodnota na vertikální ose udává vzdálenost"
   ]
  },
  {
   "cell_type": "code",
   "execution_count": 6,
   "metadata": {},
   "outputs": [
    {
     "data": {
      "image/png": "[encoded data removed]",
      "text/plain": [
       "<Figure size 720x504 with 1 Axes>"
      ]
     },
     "metadata": {
      "needs_background": "light"
     },
     "output_type": "display_data"
    }
   ],
   "source": [
    "linked = linkage(X, 'single')\n",
    "\n",
    "labelList = range(1, 11)\n",
    "\n",
    "plt.figure(figsize=(10, 7))\n",
    "dendrogram(linked,\n",
    "            orientation='top',\n",
    "            labels=labelList,\n",
    "            distance_sort='descending',\n",
    "            show_leaf_counts=True)\n",
    "plt.show()"
   ]
  },
  {
   "cell_type": "markdown",
   "metadata": {},
   "source": [
    "- Použití knihovny skicit-learn pro hierarchické clusterování\n",
    "- Výsledkem jsou opět 2 clustery"
   ]
  },
  {
   "cell_type": "code",
   "execution_count": 7,
   "metadata": {},
   "outputs": [
    {
     "name": "stdout",
     "output_type": "stream",
     "text": [
      "[1 1 1 1 1 0 0 0 0 0]\n"
     ]
    },
    {
     "data": {
      "image/png": "[encoded data removed]",
      "text/plain": [
       "<Figure size 432x288 with 1 Axes>"
      ]
     },
     "metadata": {
      "needs_background": "light"
     },
     "output_type": "display_data"
    }
   ],
   "source": [
    "cluster = AgglomerativeClustering(n_clusters=2, affinity='euclidean', linkage='ward')\n",
    "cluster.fit_predict(X)\n",
    "print(cluster.labels_)\n",
    "plt.scatter(X[:,0],X[:,1], c=cluster.labels_, cmap='rainbow')\n",
    "plt.show()"
   ]
  },
  {
   "cell_type": "markdown",
   "metadata": {},
   "source": [
    "##### Zajímavé parametry funkce AgglomerativeClustering\n",
    "- n_clusters - počet clusterů, nelze kombinovat s distance_threshold\n",
    "- affinity - metrika použitá pro výpočet vzdálenosti\n",
    "- linkage - linkage metrika pro určení vzdálenosti clusterů\n",
    "- distance_threshold - hranice, kdy clustery o větší vzdálenosti nebudou sloučeny, nelze kombinovat s n_clusters"
   ]
  },
  {
   "cell_type": "markdown",
   "metadata": {},
   "source": [
    "## Nehierarchické algoritmy\n",
    "Netvoří se stromová struktura mezi jednotlivými clustery. Nehierarchické algoritmy jsou všeobecně rychlejší než hierarchické, což je důležité především u velkých datových sad.\n",
    "\n",
    "###  k-means\n",
    "Nejběžnější nehierarchický algoritmus, iterativně formuje clustery. Počet clusterů (k) musí být předem známý. Průměrná složitost je O(knT), kde T je počet iterací.\n",
    "\n",
    "Vhodný pro clustery podobných velikostí a nižší počet clusterů.\n",
    "\n",
    "*postup:*\n",
    "    1. Náhodně se zvolí k vzorků dat, které tvoří středy clusterů, tzv. centroidy\n",
    "    2. Přiřadí se každý ze vzorků do clusteru nejbližšího centroidu\n",
    "    3. Vypočítá se střed každého clusteru pomocí průměru a centroidy se umístí do těchto bodů\n",
    "    4. Kroky 2 a 3 opakujeme dokud se centroidy nepřestanou měnit (případně při překročení omezující podmínky, např. počet iterací)\n",
    "    \n",
    "Clustery jsou tedy tvořeny na základě vzdálenosti jednotlivých prvků od centroidů.\n",
    "\n",
    "Ukázka algoritmu, náhodný výběr v prvním kroku může zásadně ovlivnit výsledek algoritmu.\n",
    "<img src=\"resources/kmeans.gif\">\n",
    "(https://realpython.com/k-means-clustering-python/)\n",
    "\n",
    "#### Jednoduchý Příklad\n",
    "\n",
    "- Použití stejných dat jako při ukázce hierarchického algoritmu\n",
    "- Vykreslení do grafu"
   ]
  },
  {
   "cell_type": "code",
   "execution_count": 8,
   "metadata": {},
   "outputs": [
    {
     "data": {
      "image/png": "[encoded data removed]",
      "text/plain": [
       "<Figure size 720x504 with 1 Axes>"
      ]
     },
     "metadata": {
      "needs_background": "light"
     },
     "output_type": "display_data"
    }
   ],
   "source": [
    "from sklearn.cluster import KMeans\n",
    "\n",
    "labels = range(1, 11)\n",
    "plt.figure(figsize=(10, 7))\n",
    "plt.subplots_adjust(bottom=0.1)\n",
    "plt.scatter(X[:,0],X[:,1], label='True Position')\n",
    "\n",
    "for label, x, y in zip(labels, X[:, 0], X[:, 1]):\n",
    "    plt.annotate(\n",
    "        label,\n",
    "        xy=(x, y), xytext=(-3, 3),\n",
    "        textcoords='offset points', ha='right', va='bottom')\n",
    "plt.show()"
   ]
  },
  {
   "cell_type": "markdown",
   "metadata": {},
   "source": [
    "- Použití algoritmu k-means\n",
    "- Výpis bodů v jednotlivých clusterech\n",
    "- Výpis pozic centroidů\n",
    "- Vykreslení v grafu včetně pozic centroidů"
   ]
  },
  {
   "cell_type": "code",
   "execution_count": 11,
   "metadata": {},
   "outputs": [
    {
     "name": "stdout",
     "output_type": "stream",
     "text": [
      "[1 1 1 1 1 0 0 0 0 0]\n",
      "[[75.2 74.8]\n",
      " [16.8 14. ]]\n"
     ]
    },
    {
     "data": {
      "image/png": "[encoded data removed]",
      "text/plain": [
       "<Figure size 432x288 with 1 Axes>"
      ]
     },
     "metadata": {
      "needs_background": "light"
     },
     "output_type": "display_data"
    }
   ],
   "source": [
    "kmeans = KMeans(n_clusters=2)\n",
    "kmeans.fit(X)\n",
    "print(kmeans.labels_)\n",
    "print(kmeans.cluster_centers_)\n",
    "plt.scatter(X[:,0],X[:,1], c=kmeans.labels_, cmap='rainbow')\n",
    "plt.scatter(kmeans.cluster_centers_[:,0] ,kmeans.cluster_centers_[:,1], color='black')\n",
    "plt.show()"
   ]
  },
  {
   "cell_type": "markdown",
   "metadata": {},
   "source": [
    "##### Zajímavé parametry KMeans\n",
    "- n_clusters - počet clusterů\n",
    "- init - metoda pro volbu výchozích centroidů, výchozí hodnota se snaží najít nejlepší volbu pro kratší běh algoritmu\n",
    "- n_init - algoritmus bude spuštěn vícekrát s různými výchozími pozicemi centroidů pro záskání nejlepšího výsledku (default = 10)\n",
    "- max_iter - maximální množství iterací\n",
    "- tol - tolerance, ve které se považuje změna pozice centroidu za nulovou"
   ]
  },
  {
   "cell_type": "markdown",
   "metadata": {},
   "source": [
    "###  DBSCAN (Density Based Spatial Clustering of Applications with Noise)\n",
    "Algoritmus založený na hustotě - jak moc sousedů se nachází v okolí jednoho bodu. Nepotřebuje znát počet clusterů, takže je vhodný když toto množství neznáme nebo nemůžeme vizualizovat dataset. Vidí cluster jako oblast, kde jsou data v hustém shluku, kolem kterého jsou data v menší hustotě. Díky tomu mohou být clustery libovolných tvarů, oproti k-means, který předpokládá, že jsou clustery konvexního tvaru. \n",
    "\n",
    "Algoritmus je založený na konceptu \"core samples\", což jsou vzorky, které se nacházejí v oblastech velké hustoty, kolem kterých se tvoří clustery. Je vhodný pro data s clustery podobné hustoty.\n",
    "\n",
    "<img src=\"resources/convex.png\">\n",
    "\n",
    "(https://undergroundmathematics.org/glossary/convex-shape)\n",
    "\n",
    "#### Jednoduchý příklad\n",
    "(https://scikit-learn.org/stable/auto_examples/cluster/plot_dbscan.html#sphx-glr-auto-examples-cluster-plot-dbscan-py)\n",
    "\n",
    "- importy"
   ]
  },
  {
   "cell_type": "code",
   "execution_count": 25,
   "metadata": {},
   "outputs": [],
   "source": [
    "import numpy as np\n",
    "import matplotlib.pyplot as plt\n",
    "\n",
    "from sklearn.cluster import DBSCAN\n",
    "from sklearn import metrics\n",
    "from sklearn.datasets import make_blobs\n",
    "from sklearn.preprocessing import StandardScaler"
   ]
  },
  {
   "cell_type": "markdown",
   "metadata": {},
   "source": [
    "- Vygenerování dat pomocí funkce make_blobs\n",
    "- Standardizace dat"
   ]
  },
  {
   "cell_type": "code",
   "execution_count": 78,
   "metadata": {},
   "outputs": [],
   "source": [
    "centers = [[1, 1], [-1, -1], [1, -1]]\n",
    "X, labels_true = make_blobs(n_samples=750, centers=centers, cluster_std=0.4, random_state=0)\n",
    "X = StandardScaler().fit_transform(X)"
   ]
  },
  {
   "cell_type": "markdown",
   "metadata": {},
   "source": [
    "- Použití algoritmu"
   ]
  },
  {
   "cell_type": "code",
   "execution_count": 79,
   "metadata": {},
   "outputs": [],
   "source": [
    "db = DBSCAN(eps=0.3, min_samples=10).fit(X)"
   ]
  },
  {
   "cell_type": "markdown",
   "metadata": {},
   "source": [
    "- Vykreslení do grafu\n",
    "- Vytvořili se 3 clustery\n",
    "- Prvky ve větší vzdálenost od clusterů jsou označeny za \"noise\""
   ]
  },
  {
   "cell_type": "code",
   "execution_count": 81,
   "metadata": {},
   "outputs": [
    {
     "data": {
      "image/png": "[encoded data removed]",
      "text/plain": [
       "<Figure size 432x288 with 1 Axes>"
      ]
     },
     "metadata": {
      "needs_background": "light"
     },
     "output_type": "display_data"
    }
   ],
   "source": [
    "plt.scatter(X[:,0],X[:,1], c=db.labels_, cmap='rainbow')\n",
    "plt.show()"
   ]
  },
  {
   "cell_type": "markdown",
   "metadata": {},
   "source": [
    "##### Zajímavé parametry DBSCAN\n",
    "- eps - Maximální vzdálenost mezi prvky, aby byly považovány, že jsou v blízkosti\n",
    "- min_samples - minimální množství prvků, které musí být v blízkosti, aby byl bod považovaný za \"core sample\"\n",
    "- metric - metrika použitá pro výpočet vzdálenosti"
   ]
  },
  {
   "cell_type": "code",
   "execution_count": null,
   "metadata": {},
   "outputs": [],
   "source": [
    "a"
   ]
  },
  {
   "cell_type": "code",
   "execution_count": null,
   "metadata": {},
   "outputs": [],
   "source": [
    "a = 10\n",
    "print(a)"
   ]
  },
  {
   "cell_type": "code",
   "execution_count": null,
   "metadata": {},
   "outputs": [],
   "source": [
    "a"
   ]
  },
  {
   "cell_type": "markdown",
   "metadata": {},
   "source": [
    "## Vstup z konsole (`input()`)\n",
    "Opakem příkazu `print()`, který zajišťuje výstup je `input()` pro vstup."
   ]
  },
  {
   "cell_type": "code",
   "execution_count": null,
   "metadata": {},
   "outputs": [],
   "source": [
    "a = input()\n",
    "print(a)\n"
   ]
  },
  {
   "cell_type": "markdown",
   "metadata": {},
   "source": [
    "Input se vstupní hláškou"
   ]
  },
  {
   "cell_type": "code",
   "execution_count": null,
   "metadata": {},
   "outputs": [],
   "source": [
    "a = input(\"Strana: \")\n",
    "print(a)"
   ]
  },
  {
   "cell_type": "markdown",
   "metadata": {},
   "source": [
    "## Pravidla pro pojmenování proměnných\n",
    "*[PEP8](https://www.python.org/dev/peps/pep-0008/) – Style Guide for Python Code*\n",
    "\n",
    "Proměnné musí začínat písmenem či podtržítkem\n",
    "\n",
    "Proměnné jsou *case sensitive*"
   ]
  },
  {
   "cell_type": "code",
   "execution_count": null,
   "metadata": {},
   "outputs": [],
   "source": [
    "cislo = 1\n",
    "Cislo = 2\n",
    "číslo = 3\n",
    "print(cislo, Cislo, číslo)"
   ]
  },
  {
   "cell_type": "markdown",
   "metadata": {},
   "source": [
    "Pro více-slovné proměnné používáme jako oddělovač podtržítko `_`"
   ]
  },
  {
   "cell_type": "code",
   "execution_count": null,
   "metadata": {},
   "outputs": [],
   "source": [
    "moje_oblibene_cislo = 42\n",
    "print(moje_oblibene_cislo)"
   ]
  },
  {
   "cell_type": "markdown",
   "metadata": {},
   "source": [
    "Další ukázky"
   ]
  },
  {
   "cell_type": "code",
   "execution_count": null,
   "metadata": {},
   "outputs": [],
   "source": [
    "x = 10\n",
    "print(x)"
   ]
  },
  {
   "cell_type": "code",
   "execution_count": null,
   "metadata": {},
   "outputs": [],
   "source": [
    "_y = 20\n",
    "$y = 50\n",
    "9x = 30\n",
    "print(_y)\n",
    "print($y)\n",
    "print(9x)\n"
   ]
  },
  {
   "cell_type": "markdown",
   "metadata": {},
   "source": [
    "## Operátory přiřazení\n",
    "\n",
    "Základní přiražení"
   ]
  },
  {
   "cell_type": "code",
   "execution_count": null,
   "metadata": {},
   "outputs": [],
   "source": [
    "a = 1\n",
    "b = a + 1\n",
    "print(b)"
   ]
  },
  {
   "cell_type": "markdown",
   "metadata": {},
   "source": [
    "Vícenásobné přiřazeni"
   ]
  },
  {
   "cell_type": "code",
   "execution_count": null,
   "metadata": {},
   "outputs": [],
   "source": [
    "a, b, c = 1, 2, 3\n",
    "print(a, b, c)"
   ]
  },
  {
   "cell_type": "markdown",
   "metadata": {},
   "source": [
    "Prohození dvou proměných díky přiřazeni"
   ]
  },
  {
   "cell_type": "code",
   "execution_count": null,
   "metadata": {},
   "outputs": [],
   "source": [
    "a = 1\n",
    "b = 2\n",
    "a, b = b, a\n",
    "print(a, b)"
   ]
  },
  {
   "cell_type": "markdown",
   "metadata": {},
   "source": [
    "> #### Příklad:\n",
    "> Do proměnných `a,b,c` přiřaďte hodnoty `ahoj, 10, 20.23` a následně je vypište."
   ]
  },
  {
   "cell_type": "code",
   "execution_count": null,
   "metadata": {},
   "outputs": [],
   "source": [
    "# Řešení"
   ]
  },
  {
   "cell_type": "markdown",
   "metadata": {},
   "source": [
    "### Operátor přiřazení kombinovavý s operací\n",
    "Operátory přiřazení lze zkombinovat s operací, tedy zápis:\n",
    "- `a = a + 1`\n",
    "Je stejný jako zápis:\n",
    "- `a += 1`"
   ]
  },
  {
   "cell_type": "code",
   "execution_count": null,
   "metadata": {},
   "outputs": [],
   "source": [
    "a = 1\n",
    "b = 1\n",
    "a = a + 1\n",
    "b += 1\n",
    "print(a, b)"
   ]
  },
  {
   "cell_type": "markdown",
   "metadata": {},
   "source": [
    "Takto se dají kombinovat i další binární operátory.\n",
    "\n",
    "## Rezervovaná slova\n",
    "Jedná se o slova, která nelze použít pro názvy proměnných.\n",
    "\n",
    "`and `\n",
    "`exec `\n",
    "`not`\n",
    "`assert`\n",
    "`finally`\n",
    "`or`\n",
    "`break`\n",
    "`for`\n",
    "`pass`\n",
    "`class`\n",
    "`from`\n",
    "`print`\n",
    "`continue`\n",
    "`lambda`\n",
    "`yield`\n",
    "`global`\n",
    "`raise`\n",
    "`def`\n",
    "`if`\n",
    "`return`\n",
    "`del`\n",
    "`import`\n",
    "`try`\n",
    "`elif`\n",
    "`in`\n",
    "`while`\n",
    "`else`\n",
    "`is`\n",
    "`with `\n",
    "`except`\n",
    "\n",
    "## Konce řádků a středníky\n",
    "Z mnoha programovacích jazyků jsme zvyklí ukončovat příkazy středníky.\n",
    "To má velkou výhodu v tom, že když chceme napsat příkaz na více řádků, ničemu to nevadí.\n",
    "\n",
    "V Pythonu platí co řádek to příkaz.\n",
    "Když chceme napsat příkaz na více řádků, použijeme znak `\\`."
   ]
  },
  {
   "cell_type": "code",
   "execution_count": null,
   "metadata": {},
   "outputs": [],
   "source": [
    "\"Ahoj\" +\\\n",
    "\" \" +\\\n",
    "\"svetě.\""
   ]
  },
  {
   "cell_type": "markdown",
   "metadata": {},
   "source": [
    "## Import funkci, objeku, modulu\n",
    "Pokud chceme použit něco, co není soušátí standatního balíčku, pak musíme provést import.\n",
    "\n",
    "Například python nezná konstantu `pi`, ta je v modulu `math`."
   ]
  },
  {
   "cell_type": "code",
   "execution_count": null,
   "metadata": {},
   "outputs": [],
   "source": [
    "import math\n",
    "math.pi"
   ]
  },
  {
   "cell_type": "markdown",
   "metadata": {},
   "source": [
    "pokud bychom chtěli pouze `pi`"
   ]
  },
  {
   "cell_type": "code",
   "execution_count": 1,
   "metadata": {},
   "outputs": [
    {
     "data": {
      "text/plain": [
       "3.141592653589793"
      ]
     },
     "execution_count": 1,
     "metadata": {},
     "output_type": "execute_result"
    }
   ],
   "source": [
    "from math import pi\n",
    "pi"
   ]
  },
  {
   "cell_type": "markdown",
   "metadata": {},
   "source": []
  },
  {
   "cell_type": "code",
   "execution_count": null,
   "metadata": {},
   "outputs": [],
   "source": []
  }
 ],
 "metadata": {
  "kernelspec": {
   "display_name": "Python 3",
   "language": "python",
   "name": "python3"
  },
  "language_info": {
   "codemirror_mode": {
    "name": "ipython",
    "version": 3
   },
   "file_extension": ".py",
   "mimetype": "text/x-python",
   "name": "python",
   "nbconvert_exporter": "python",
   "pygments_lexer": "ipython3",
   "version": "3.8.3"
  }
 },
 "nbformat": 4,
 "nbformat_minor": 4
}
